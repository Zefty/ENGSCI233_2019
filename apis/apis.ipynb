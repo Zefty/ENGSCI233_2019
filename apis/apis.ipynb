{
 "cells": [
  {
   "cell_type": "markdown",
   "metadata": {},
   "source": [
    "# Application Programming Interfaces"
   ]
  },
  {
   "cell_type": "markdown",
   "metadata": {},
   "source": [
    "**ENGSCI233: Computational Techniques and Computer Systems** \n",
    "\n",
    "*Department of Engineering Science, University of Auckland*"
   ]
  },
  {
   "cell_type": "code",
   "execution_count": null,
   "metadata": {},
   "outputs": [],
   "source": [
    "# imports and environment: this cell must be executed before any other in the notebook\n",
    "%matplotlib inline\n",
    "#from apis233 import*  "
   ]
  },
  {
   "cell_type": "markdown",
   "metadata": {},
   "source": [
    "The purpose of this notebook is give you a short introduction to Application Programming Interfaces, or APIs. The goal is for you to be able to effectively use an API, **not design one**. Nevertheless, we'll touch on some good API design principles, as these will help you to understand what you're working with."
   ]
  },
  {
   "cell_type": "markdown",
   "metadata": {},
   "source": [
    "## 1 API design\n",
    "\n",
    "***<mark> What makes a good API? </mark>***"
   ]
  },
  {
   "cell_type": "markdown",
   "metadata": {},
   "source": [
    "At its core, an API is a **set of functions, classes and other tools** provided to a user to help them build a computer program. For instance, in this module we will be using the [Overpass API](http://overpass-turbo.eu/) and [Python package](https://github.com/mvexel/overpass-api-python-wrapper), which provides an interface to OpenStreetMap, a massive database of crowdsourced geographic data. The **OpenStreetMap** project comprises about 800 GB of data, so it's obviously **not practical to download** and interact with the database directly. Instead, we use an API to make data requests to a webhosted repository. \n",
    "\n",
    "Without being overly prescriptive, good API design principles include<sup>1</sup>:\n",
    "\n",
    "- Easy to learn and to use, with good documentation.\n",
    "- As small as possible, doing a few things well, exposing only what is required (public) and hiding the rest (private).\n",
    "- [Specification](../quality_control/quality_control.ipynb#2-Specifications) driven. Implementation details just confuse the user, keep the focus on inputs and outputs.\n",
    "- Like a mini programming language. Names should be self-explanatory.\n",
    "\n",
    "<sup>1</sup><sub>Taken from*\"How to Design a Good API and Why it Matters\"*, Joshua Bloch ([slides](https://static.googleusercontent.com/media/research.google.com/en//pubs/archive/32713.pdf), [video](https://www.youtube.com/watch?v=heh4OeB9A-c))</sub>"
   ]
  },
  {
   "cell_type": "markdown",
   "metadata": {},
   "source": [
    "### 1.1 Other interfaces\n",
    "\n",
    "In an abstract sense, an interface is just a formalised protocol to **make it easy** for users to interact with the more complicated engine. APIs are for when you'd like this to be a **programming interaction** (writing and running statements). **Graphical User Interfaces** (GUIs) are for when you'd prefer to be pointing, clicking buttons, dragging objects, etc.  "
   ]
  },
  {
   "cell_type": "markdown",
   "metadata": {},
   "source": [
    "## 2 Discovering the Overpass API\n",
    "\n",
    "***<mark>Learning by doing.</mark>***"
   ]
  },
  {
   "cell_type": "markdown",
   "metadata": {},
   "source": [
    "There's only so much that can be learned discussing APIs in a conceptual sense. We'll spend the rest of this module focusing on the OpenStreetMap API. The aim is to give you a sense of the scale of problems that can be solved when you have access to these kinds of massive online data repositories. In addition, learning, using, and troubleshooting someone else's code can spark new ways of thinking about your own coding<sup>2</sup>. \n",
    "\n",
    "We'll start with an introduction to OpenStreetMap and the web interface. Then, we'll try out the Overpass API, and it's Python wrapper. For a nice explainer on how they all link together, take a look [here](https://towardsdatascience.com/loading-data-from-openstreetmap-with-python-and-the-overpass-api-513882a27fd0).\n",
    "\n",
    "<sup>2</sup><sub>It's also really frustrating, although you should be used to that by now.</sub>"
   ]
  },
  {
   "cell_type": "markdown",
   "metadata": {},
   "source": [
    "### 2.1 OpenStreetMap"
   ]
  },
  {
   "cell_type": "markdown",
   "metadata": {},
   "source": [
    "Visit the OpenStreetMap (OSM from now) web interface here https://www.openstreetmap.org/#map=16/-36.8608/174.7638\n",
    "\n",
    "<img src=\"img/osm1.png\" alt=\"Drawing\" style=\"width: 900px;\"/>\n",
    "\n",
    "***You should see a detailed map of downtown Auckland, with an interface that is quite similar to Google Maps. ***\n",
    "\n",
    "However, this is not actually OSM. OSM is a large database of **Nodes** (points in space, tagged with information), **Ways** (lists of Nodes) and **Relations** (lists of Nodes, Ways and other Relations). What you're looking at in your browser is a web-based GUI that helps you understand and explore the OSM database."
   ]
  },
  {
   "cell_type": "markdown",
   "metadata": {},
   "source": [
    "Zooming in to the University of Auckland, I can locate the rather questionable establishment, Shadows. Right-clicking here and choosing `Query features` brings up a list of nearby things, one of which is Pub [Shadows](https://www.openstreetmap.org/node/317654141). Clicking on that, I can bring up a second dialog providing additional information: this is a `Node` object, it is tagged as a [`pub`](https://wiki.openstreetmap.org/wiki/Tag:amenity=pub?uselang=en-US) [amenity](https://wiki.openstreetmap.org/wiki/Key:amenity?uselang=en-US), and its latitude and longitude are given as well.\n",
    "\n",
    "<img src=\"img/osm2.png\" alt=\"Drawing\" style=\"width: 900px;\"/>"
   ]
  },
  {
   "cell_type": "markdown",
   "metadata": {},
   "source": [
    "What else can we find? Right-click on nearby Princes Street and query its features. Here, we can see an example of:\n",
    "\n",
    "- A **Way**: Unclassified Road [Princes Street](https://www.openstreetmap.org/way/53197184#map=19/-36.85091/174.76871). Open this to see the **list of Nodes** defining the Way.\n",
    "- A **Relation**: Relation [Beach Haven Wharf to Auckland University](https://www.openstreetmap.org/relation/1993410#map=14/-36.8206/174.7266). Open this to see the Auckland Transport 933 Bus Route.\n",
    "\n",
    "<img src=\"img/osm3.png\" alt=\"Drawing\" style=\"width: 900px;\"/>\n",
    "\n",
    "Clearly OSM contains a wealth of data, although using the web interface will become cumbersome as we attempt more ambitious projects."
   ]
  },
  {
   "cell_type": "markdown",
   "metadata": {},
   "source": [
    "### 2.2 Overpass"
   ]
  },
  {
   "cell_type": "markdown",
   "metadata": {},
   "source": [
    "For most people, their main interaction with OSM is to request data, i.e, lodging a **Query**. [Overpass](https://wiki.openstreetmap.org/wiki/Overpass_API) is an API optimized for this client query interaction.\n",
    "\n",
    "As an API, it has its own specialised language, e.g.,\n",
    "\n",
    "`node[\"amenity\"=\"pub\"](-36.89,174.70,-36.83,174.80); out;`\n",
    "\n",
    "is a query that returns all nodes tagged with `Amenity Pub` contained in the box with latitude and longitude bounds `(-36.89,174.70,-36.83,174.80)`. Semi-colons are used to separate commands<sup>3</sup>. You can read more about Overpass queries [here](). \n",
    "\n",
    "<sup>3</sup><sub>I wouldn't do it that way, but the person who designs the API gets to set the rules.</sub>"
   ]
  },
  {
   "cell_type": "markdown",
   "metadata": {},
   "source": [
    "#### 2.2.1 Example 1 - Searching Nodes"
   ]
  },
  {
   "cell_type": "markdown",
   "metadata": {},
   "source": [
    "A good way to test out your Overpass queries is to enter them in [overpass turbo](http://overpass-turbo.eu/), which links your query to a map view. Enter the pub search query above in overpass turbo to locate all the pubs in Central Auckland.\n",
    "\n",
    "<img src=\"img/osm4.png\" alt=\"Drawing\" style=\"width: 900px;\"/>\n",
    "\n",
    "Click the **Data** tab on the righthand side to see the corresponding XML file containing your data request.\n",
    "\n",
    "***Which part of the API command sets the search limits?***\n",
    "\n",
    "> <mark>*~ your answer here ~*</mark>\n",
    "\n",
    "***How would you customise search limits for your own problem? (Hint: in Google Maps you can right click and choose \"What's here\" for lat/lon info.)***\n",
    "\n",
    "> <mark>*~ your answer here ~*</mark>\n",
    "\n",
    "***How can you find out which amenities are available for searching?***\n",
    "\n",
    "> <mark>*~ your answer here ~*</mark>\n"
   ]
  },
  {
   "cell_type": "markdown",
   "metadata": {},
   "source": [
    "#### 2.2 Example 2 - Searching Relations and using Recursion"
   ]
  },
  {
   "cell_type": "markdown",
   "metadata": {},
   "source": [
    "Suppose we want to pull data on the Auckland Transport 933 Bus Route. This is a **Relation**, which comprises a list of **Ways**, each of which is a list of **Nodes**. Let's start by pulling just the relation though. In overpass turbo, enter\n",
    "\n",
    "`relation[\"network\"=\"AT\"][\"ref\"=\"933\"]; out;`\n",
    "\n",
    "You will be met with a helpful `Incomplete Data` message that essentially says *\"We CAN return the route data, but we CANNOT display the route.\"* Huh?\n",
    "\n",
    "For now, choose `show data`. You will be taken to the data screen, which shows the bus route (a Relation) as comprising a series of legs (Ways). \n",
    "\n",
    "<img src=\"img/osm6.png\" alt=\"Drawing\" style=\"width: 900px;\"/>\n",
    "\n",
    "Unfortunately, our request has only returned the **names** of these Ways (under `ref`, a largely meaningless number). To plot the route, what we really need is (1) the Nodes that belong to each Way, and (2) the coordinate data belonging to each Node.\n",
    "\n",
    "Fortunately, it is reasonably straightforward to modify our request in a way that says *\"Keep recursively drilling down through the data - Relations $\\rightarrow$ Ways $\\rightarrow$ Nodes $\\rightarrow$ coordinate data - and return me everything.\"*\n",
    "\n",
    "***Implementing Recursion***\n",
    "\n",
    "The easiest way to see recursion implemented is to choose `repair query` when you get the `Incomplete Data` message from overpass turbo. This will automatically append a \n",
    "\n",
    "`(._;>;);`\n",
    "\n",
    "to your request. Running this query will generate a map of the bus route, and the nodes locations are now evident in the `Data` tab.\n",
    "\n",
    "<img src=\"img/osm7.png\" alt=\"Drawing\" style=\"width: 900px;\"/>\n",
    "\n",
    "So how does `(._;>;);` achieve the desired recursion? This is an idiosyncracy of this particular API. To understand<sup>4</sup>, you need to start with the [API documentation](https://wiki.openstreetmap.org/wiki/Overpass_API/Language_Guide) and read sections 7 and 8. \n",
    "\n",
    "<sup>4</sup><sub>I mean, I could tell you, but *personal struggle* is a much better teacher than I am.</sub>"
   ]
  },
  {
   "cell_type": "markdown",
   "metadata": {},
   "source": [
    "#### 2.3 Scoring this API"
   ]
  },
  {
   "cell_type": "markdown",
   "metadata": {},
   "source": [
    "The Overpass API provides you, the user, with tools to simplify your interaction with the very large OSM database. **But is it a good API?**\n",
    "\n",
    "- I personally found parts of it **somewhat easy** to learn (especially with overpass turbo). The documentation is a wiki page with some useful examples. Recursion is unintuitive. \n",
    "\n",
    "> <mark>*~ your score out of 5 ~*</mark>\n",
    "\n",
    "- It exposes only a small part of OSM. The main API for OSM allows upload and editing of information. However, Overpass has a specific purpose, restricted to **data queries only**.\n",
    "\n",
    "> <mark>*~ your score out of 5 ~*</mark>\n",
    "\n",
    "- It is specification driven. The user does not need to understand which search algorithm is used (implementation). All they do is provide the parameters of their request (inputs) and then receive the data (outputs).\n",
    "\n",
    "> <mark>*~ your score out of 5 ~*</mark>\n",
    "\n",
    "- Names are somewhat self-explanatory. Recursion is not great, e.g., what do `._`, `>;` mean?\n",
    "\n",
    "> <mark>*~ your score out of 5 ~*</mark>"
   ]
  },
  {
   "cell_type": "markdown",
   "metadata": {},
   "source": [
    "In any case, someone clearly wasn't completely satisfied with Overpass, as there is a nice Python wrapper<sup>5</sup> we can use to generate our queries.\n",
    "    \n",
    "<sup>5</sup><sub>[An API for an API.](https://www.youtube.com/watch?v=G2jUhnCU9iA)</sub>"
   ]
  },
  {
   "cell_type": "markdown",
   "metadata": {},
   "source": [
    "### 2.3 Overpass Python API"
   ]
  },
  {
   "cell_type": "markdown",
   "metadata": {},
   "source": [
    "First, you'll need to install the Overpass Python API (also called overpass). We can do this from within this notebook using `pip` (Package Installer for Python). You'll only need to do this once - running the cell below again will tell you that it's already installed. `pip` commands can also be run from the command prompt, just without the `!`.\n",
    "\n",
    "***Run the cell below to install Python overpass.***"
   ]
  },
  {
   "cell_type": "code",
   "execution_count": null,
   "metadata": {},
   "outputs": [],
   "source": [
    "!pip install overpass"
   ]
  },
  {
   "cell_type": "markdown",
   "metadata": {},
   "source": [
    "Great! Python overpass is ready to go. Let's pull down some data and start exploring."
   ]
  },
  {
   "cell_type": "code",
   "execution_count": null,
   "metadata": {},
   "outputs": [],
   "source": [
    "from overpass import API\n",
    "\n",
    "api = API()\n",
    "dat = api.get('node[\"amenity\"=\"pub\"](-36.89,174.70,-36.83,174.80)', responseformat=\"json\")"
   ]
  },
  {
   "cell_type": "markdown",
   "metadata": {},
   "source": [
    "So now we have an object called `dat`, which presumably contains the same query data we were looking at in overpass-turbo. But how should I **discover** the arrangement or structure of these data?\n",
    "\n",
    "My preference at this stage is to switch over to **Visual Studio Code**, where its much easier to inspect Python variables and infer their meaning. Run the file `overpass_ex1.py` in **debugging**, setting a breakpoint on line 11. Then, in the lefthand Debug pane, we can inspect the object `dat`.\n",
    "\n",
    "<img src=\"img/osm5.png\" alt=\"Drawing\" style=\"width: 900px;\"/>\n",
    "\n",
    "After a little effort, we can infer that the query data is contained in a set of **nested dictionaries and lists**.\n",
    "\n",
    "For instance, the top level contains entries `\"version\"`, `\"generator\"`, `\"osm3s\"` and `\"elements\"`"
   ]
  },
  {
   "cell_type": "code",
   "execution_count": null,
   "metadata": {},
   "outputs": [],
   "source": [
    "print(dat.keys())"
   ]
  },
  {
   "cell_type": "markdown",
   "metadata": {},
   "source": [
    "`dat[\"elements\"]` is a list containing a large number of dictionary entries. For instance, the second appears to correspond to `\"The Edinburgh Castle\"`."
   ]
  },
  {
   "cell_type": "code",
   "execution_count": null,
   "metadata": {},
   "outputs": [],
   "source": [
    "print(len(dat[\"elements\"]))\n",
    "print(dat[\"elements\"][1])"
   ]
  },
  {
   "cell_type": "markdown",
   "metadata": {},
   "source": [
    "The location data looks to be contained under the `\"lat\"` and `\"lon\"` keys, whereas the other metadata is stored under `\"tags\"` (another dictionary, whew!)"
   ]
  },
  {
   "cell_type": "code",
   "execution_count": null,
   "metadata": {},
   "outputs": [],
   "source": [
    "print(dat[\"elements\"][1][\"lat\"])\n",
    "print(dat[\"elements\"][1][\"lon\"])\n",
    "\n",
    "print(dat[\"elements\"][1][\"tags\"])\n",
    "print(dat[\"elements\"][1][\"tags\"][\"name\"])"
   ]
  },
  {
   "cell_type": "markdown",
   "metadata": {},
   "source": [
    "Suppose, however, my query is motivated by a desire for sticky floors and dark corners..."
   ]
  },
  {
   "cell_type": "code",
   "execution_count": null,
   "metadata": {},
   "outputs": [],
   "source": [
    "# search for shads\n",
    "for el in dat[\"elements\"]:\n",
    "    if el[\"tags\"][\"name\"] == \"Shadows\":\n",
    "        break\n",
    "        \n",
    "print(\"... then get yourself to [{:3.2f},{:3.2f}]\".format(el[\"lat\"], el[\"lon\"]))"
   ]
  },
  {
   "cell_type": "markdown",
   "metadata": {},
   "source": [
    "***- - - - CLASS CODING EXERCISE - - - -***"
   ]
  },
  {
   "cell_type": "code",
   "execution_count": null,
   "metadata": {},
   "outputs": [],
   "source": [
    "# PART ONE\n",
    "# --------\n",
    "# How many pubs are there in West Auckland?\n",
    "# *hint* - change the bounding box defining the search\n",
    "#\n",
    "# **your code here**"
   ]
  },
  {
   "cell_type": "code",
   "execution_count": null,
   "metadata": {},
   "outputs": [],
   "source": [
    "# PART TWO\n",
    "# --------\n",
    "# How long is Beach Haven Wharf to Auckland University bus route?\n",
    "#\n",
    "# *having trouble with this exercies in Jupyter Notebooks? do it in Visual Studio Code instead.*"
   ]
  },
  {
   "cell_type": "markdown",
   "metadata": {},
   "source": [
    "First, we need to pull down some data."
   ]
  },
  {
   "cell_type": "code",
   "execution_count": null,
   "metadata": {},
   "outputs": [],
   "source": [
    "# the command below pulls down the WAY information, but NOT the NODE and COORDINATE data we need\n",
    "dat = api.get('relation[\"network\"=\"AT\"][\"ref\"=\"933\"]', responseformat=\"json\")\n",
    "#print(dat['elements'])   # this print statement optional\n",
    "\n",
    "# modify the command above with a recursion relation to pull down ALL the data associated with this bus route\n",
    "# **your code here**\n",
    "# dat = api.get("
   ]
  },
  {
   "cell_type": "markdown",
   "metadata": {},
   "source": [
    "We'll also need a way to measure the distance between two points."
   ]
  },
  {
   "cell_type": "code",
   "execution_count": null,
   "metadata": {},
   "outputs": [],
   "source": [
    "# this function computes the distance between two points on the Earth's surface with known coordinates\n",
    "import numpy as np\n",
    "def dist(lat0,lon0,lat1,lon1):\n",
    "    ''' returns the distance in km between two points using the haversine formula\n",
    "    '''\n",
    "    lat0,lon0,lat1,lon1 = list(np.array([lat0,lon0,lat1,lon1])/180.*np.pi)  # convert from degrees to radians\n",
    "    return 2.*6400*np.arcsin(np.sqrt(np.sin((lat0-lat1)/2.)**2+np.cos(lat0)*np.cos(lat1)*np.sin((lon0-lon1)/2.)**2))\n",
    "\n",
    "# show that the (crow-flies) distance in km between the Auckland [-36.87,174.77] and Wellington [-41.30,174.79] is about 495km\n",
    "# **your code here**\n"
   ]
  },
  {
   "cell_type": "markdown",
   "metadata": {},
   "source": [
    "The code below builds a simple look-up so that for a given node, we can get its coordinate location."
   ]
  },
  {
   "cell_type": "code",
   "execution_count": null,
   "metadata": {},
   "outputs": [],
   "source": [
    "# INSPECT the code below. It: \n",
    "# - loops through all the elements\n",
    "# - finds only the nodes\n",
    "# - stores a list of [id, [lat,lon]] \n",
    "# - turns this into a dictionary - id is the key, location is the value\n",
    "\n",
    "# where do each of the bullet points above occur in the code below?\n",
    "\n",
    "nd_loc = []\n",
    "for el in dat[\"elements\"]:\n",
    "    if el[\"type\"] == \"node\":\n",
    "        nd_id = el[\"id\"]\n",
    "        nd_loc.append((nd_id,[el[\"lat\"], el[\"lon\"]]))\n",
    "nd_loc = dict(nd_loc)"
   ]
  },
  {
   "cell_type": "code",
   "execution_count": null,
   "metadata": {},
   "outputs": [],
   "source": [
    "# a demonstration of how to use this node location dictionary\n",
    "print(nd_id)             # nd_id is a sample ID\n",
    "print(nd_loc[nd_id])     # this is the dictionary entry for that ID\n",
    "lat, lon = nd_loc[nd_id] # unpacking the coordinates and printing them out\n",
    "print(\"for example: node {:d} is at [{:3.2f},{:3.2f}]\".format(nd_id, lat, lon))"
   ]
  },
  {
   "cell_type": "markdown",
   "metadata": {},
   "source": [
    "Finally, we have everything we need to process the OSM data for bus route length"
   ]
  },
  {
   "cell_type": "code",
   "execution_count": null,
   "metadata": {},
   "outputs": [],
   "source": [
    "# EXERCISE: measure the length of the bus-route\n",
    "# **to do**\n",
    "# run the incomplete code below and inspect the content of a WAY type element\n",
    "for el in dat[\"elements\"]:\n",
    "    if el[\"type\"] == \"way\":\n",
    "        print(el)\n",
    "        print(el['nodes'])\n",
    "        break\n",
    "        \n",
    "# **to do**\n",
    "# modify the code to:\n",
    "# - loop through all the elements\n",
    "# - find only the ways\n",
    "# - extract the nodes in that way\n",
    "# - for each adjoining pair of nodes, extract their coordinate locations\n",
    "# - compute the distance between those nodes\n",
    "# - add that distance to a running total\n",
    "# answer should be about 24km\n"
   ]
  },
  {
   "cell_type": "code",
   "execution_count": null,
   "metadata": {},
   "outputs": [],
   "source": [
    "# ANSWERS, DON'T LOOK IN HERE!\n",
    "#\n",
    "#dat = api.get('relation[\"network\"=\"AT\"][\"ref\"=\"933\"];(._;>;)', responseformat=\"json\")\n",
    "#\n",
    "#dist(-36.87,174.77,-41.30,174.79)\n",
    "\n",
    "'''\n",
    "dtot = 0.\n",
    "for el in dat[\"elements\"]:\n",
    "    if el[\"type\"] == \"way\":\n",
    "        nds_id = el['nodes']\n",
    "        for nd0_id,nd1_id in zip(nds_id[:-1],nds_id[1:]):\n",
    "            nd0 = nd_loc[nd0_id]\n",
    "            nd1 = nd_loc[nd1_id]\n",
    "            d = dist(nd0[0],nd0[1],nd1[0],nd1[1])\n",
    "            dtot += d\n",
    "            \n",
    "print(\"route 933 is {:3.1f} km long\".format(dtot))\n",
    "'''"
   ]
  }
 ],
 "metadata": {
  "kernelspec": {
   "display_name": "Python 3",
   "language": "python",
   "name": "python3"
  },
  "language_info": {
   "codemirror_mode": {
    "name": "ipython",
    "version": 3
   },
   "file_extension": ".py",
   "mimetype": "text/x-python",
   "name": "python",
   "nbconvert_exporter": "python",
   "pygments_lexer": "ipython3",
   "version": "3.6.4"
  }
 },
 "nbformat": 4,
 "nbformat_minor": 2
}
